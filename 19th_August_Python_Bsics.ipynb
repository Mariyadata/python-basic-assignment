{
 "cells": [
  {
   "cell_type": "code",
   "execution_count": 1,
   "id": "abff8675-830d-44f8-b1db-54e07b2bf8df",
   "metadata": {},
   "outputs": [
    {
     "name": "stdout",
     "output_type": "stream",
     "text": [
      "After swapping:\n",
      "x = 10\n",
      "y = 5\n"
     ]
    }
   ],
   "source": [
    "x = 5\n",
    "y = 10\n",
    "\n",
    "x = x + y\n",
    "y = x - y\n",
    "x = x - y\n",
    "\n",
    "print(\"After swapping:\")\n",
    "print(\"x =\", x)\n",
    "print(\"y =\", y)"
   ]
  },
  {
   "cell_type": "raw",
   "id": "4866de5d-c242-45f5-a500-d2f86f9f8161",
   "metadata": {},
   "source": [
    "In this code, we first add x and y. Then, we subtract the original value of y from the new value of x to get the new value of y. Finally, we subtract the original value of y from the new value of x to get the new value of x. This effectively swaps the values of x and y."
   ]
  },
  {
   "cell_type": "code",
   "execution_count": 2,
   "id": "821b0e6a-65fb-42e5-b94e-68459d255630",
   "metadata": {},
   "outputs": [
    {
     "name": "stdin",
     "output_type": "stream",
     "text": [
      "Enter the length of the rectangle:  5\n",
      "Enter the width of the rectangle:  8\n"
     ]
    },
    {
     "name": "stdout",
     "output_type": "stream",
     "text": [
      "The area of the rectangle with length 5.0 and width 8.0 is: 40.0\n"
     ]
    }
   ],
   "source": [
    "# Get the length and width from the user\n",
    "length = float(input(\"Enter the length of the rectangle: \"))\n",
    "width = float(input(\"Enter the width of the rectangle: \"))\n",
    "\n",
    "# Calculate the area\n",
    "area = length * width\n",
    "\n",
    "print(f\"The area of the rectangle with length {length} and width {width} is: {area}\")\n",
    "\n"
   ]
  },
  {
   "cell_type": "code",
   "execution_count": 3,
   "id": "e17c5607-3abe-4674-b90f-2034a7777a67",
   "metadata": {},
   "outputs": [
    {
     "name": "stdin",
     "output_type": "stream",
     "text": [
      "Enter the temperature in Celsius:  90\n"
     ]
    },
    {
     "name": "stdout",
     "output_type": "stream",
     "text": [
      "90.0 degrees Celsius is equal to 194.0 degrees Fahrenheit\n"
     ]
    }
   ],
   "source": [
    "# Input temperature in Celsius\n",
    "celsius = float(input(\"Enter the temperature in Celsius: \"))\n",
    "\n",
    "# Convert Celsius to Fahrenheit using the formula: (°C × 9/5) + 32\n",
    "fahrenheit = (celsius * 9/5) + 32\n",
    "\n",
    "print(f\"{celsius} degrees Celsius is equal to {fahrenheit} degrees Fahrenheit\")"
   ]
  },
  {
   "cell_type": "code",
   "execution_count": 5,
   "id": "b57f704a-6dc4-4b3c-8e78-d025985d37e7",
   "metadata": {},
   "outputs": [
    {
     "name": "stdin",
     "output_type": "stream",
     "text": [
      "Enter a string:  mariya\n"
     ]
    },
    {
     "name": "stdout",
     "output_type": "stream",
     "text": [
      "The length of the string is: 6\n"
     ]
    }
   ],
   "source": [
    "# Get a string as input from the user\n",
    "input_string = input(\"Enter a string: \")\n",
    "\n",
    "# Calculate and print the length of the string\n",
    "string_length = len(input_string)\n",
    "print(\"The length of the string is:\", string_length)\n"
   ]
  },
  {
   "cell_type": "code",
   "execution_count": 24,
   "id": "79842246-75b4-459a-83d2-090dd408f657",
   "metadata": {},
   "outputs": [
    {
     "name": "stdin",
     "output_type": "stream",
     "text": [
      "Enter a sentence:  mariya\n"
     ]
    },
    {
     "name": "stdout",
     "output_type": "stream",
     "text": [
      "Number of vowels in the sentence: 3\n"
     ]
    }
   ],
   "source": [
    "# Function to count vowels in a string\n",
    "def count_vowels(sentence):\n",
    "    vowels = \"aeiouAEIOU\"\n",
    "    vowel_count = 0\n",
    "\n",
    "    for char in sentence:\n",
    "        if char in vowels:\n",
    "            vowel_count += 1\n",
    "\n",
    "    return vowel_count\n",
    "\n",
    "# Get input from the user\n",
    "user_input = input(\"Enter a sentence: \")\n",
    "\n",
    "# Call the count_vowels function and display the result\n",
    "vowel_count = count_vowels(user_input)\n",
    "print(\"Number of vowels in the sentence:\", vowel_count)"
   ]
  },
  {
   "cell_type": "code",
   "execution_count": 11,
   "id": "8b1a4daf-ceb3-4e48-a3b5-7a4e895a1d54",
   "metadata": {},
   "outputs": [
    {
     "name": "stdout",
     "output_type": "stream",
     "text": [
      "yoj ayiraM\n"
     ]
    }
   ],
   "source": [
    "# Input string\n",
    "input_string = \"Mariya joy\"\n",
    "\n",
    "# Reverse the string using string slicing\n",
    "reversed_string = input_string[::-1]\n",
    "\n",
    "# Print the reversed string\n",
    "print(reversed_string)\n"
   ]
  },
  {
   "cell_type": "markdown",
   "id": "dddb0663-e171-4d86-ac1d-deabd93b895d",
   "metadata": {},
   "source": [
    "In this code, [::-1] is used to create a slice of the string that starts at the end and goes backward, effectively reversing the order of characters. When you print reversed_string, you will see the reversed string of the input string."
   ]
  },
  {
   "cell_type": "code",
   "execution_count": 23,
   "id": "e07979c5-4005-495d-a880-a03e3c744a99",
   "metadata": {},
   "outputs": [
    {
     "name": "stdin",
     "output_type": "stream",
     "text": [
      "Enter a string malayalam\n"
     ]
    },
    {
     "name": "stdout",
     "output_type": "stream",
     "text": [
      "Yes\n"
     ]
    }
   ],
   "source": [
    "\n",
    "def is_Palindrome(s):\n",
    "\treturn s == s[::-1]\n",
    "\n",
    "#get input from the user\n",
    "input_string=input(\"Enter a string\")\n",
    "\n",
    "if is_Palindrome(input_string):\n",
    "\tprint(\"Yes\")\n",
    "else:\n",
    "\tprint(\"No\")\n"
   ]
  },
  {
   "cell_type": "code",
   "execution_count": 16,
   "id": "506efb02-c421-47dd-9105-b6ebcf4a2172",
   "metadata": {},
   "outputs": [
    {
     "name": "stdin",
     "output_type": "stream",
     "text": [
      "Enter a string:  m a r i y a\n"
     ]
    },
    {
     "name": "stdout",
     "output_type": "stream",
     "text": [
      "New string without spaces: mariya\n"
     ]
    }
   ],
   "source": [
    "# Function to remove spaces from a string\n",
    "def remove_spaces(input_string):\n",
    "    # Use the replace() method to replace all spaces with an empty string\n",
    "    new_string = input_string.replace(\" \", \"\")\n",
    "    return new_string\n",
    "\n",
    "# Get input from the user\n",
    "input_string = input(\"Enter a string: \")\n",
    "\n",
    "# Remove spaces and print the new string\n",
    "result = remove_spaces(input_string)\n",
    "print(\"New string without spaces: \" + result)\n"
   ]
  },
  {
   "cell_type": "code",
   "execution_count": null,
   "id": "abaddf1e-1fbd-4b47-9d85-2d2dd090d186",
   "metadata": {},
   "outputs": [],
   "source": []
  }
 ],
 "metadata": {
  "kernelspec": {
   "display_name": "Python 3 (ipykernel)",
   "language": "python",
   "name": "python3"
  },
  "language_info": {
   "codemirror_mode": {
    "name": "ipython",
    "version": 3
   },
   "file_extension": ".py",
   "mimetype": "text/x-python",
   "name": "python",
   "nbconvert_exporter": "python",
   "pygments_lexer": "ipython3",
   "version": "3.10.8"
  }
 },
 "nbformat": 4,
 "nbformat_minor": 5
}
